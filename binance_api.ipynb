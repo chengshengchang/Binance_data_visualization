{
 "cells": [
  {
   "cell_type": "markdown",
   "metadata": {},
   "source": [
    "# Target\n",
    "- get tickers\n",
    "- preprocessing\n",
    "- visualize candle graph"
   ]
  },
  {
   "cell_type": "markdown",
   "metadata": {},
   "source": [
    "## Set up , Auth , Get tickers , Market depth"
   ]
  },
  {
   "cell_type": "code",
   "execution_count": 2,
   "metadata": {},
   "outputs": [
    {
     "name": "stdout",
     "output_type": "stream",
     "text": [
      "['SCBTC', 'QIBTC', 'OPBTC', 'OMBTC', 'OGBTC', 'NUBTC', 'MCBTC', 'HCBTC', 'GOBTC', 'EZBTC', 'ARBTC', 'AEBTC', 'ZRXBTC', 'ZILBTC', 'ZENBTC', 'ZECBTC', 'YGGBTC', 'YFIBTC', 'XZCBTC', 'XVSBTC', 'XVGBTC', 'XTZBTC', 'XRPBTC', 'XNOBTC', 'XMRBTC', 'XLMBTC', 'XEMBTC', 'WTCBTC', 'WRXBTC', 'WPRBTC', 'WOOBTC', 'WINBTC', 'WANBTC', 'VIBBTC', 'VIABTC', 'VGXBTC', 'VETBTC', 'VENBTC', 'UTKBTC', 'USTBTC', 'UNIBTC', 'UMABTC', 'TWTBTC', 'TVKBTC', 'TRXBTC', 'TRUBTC', 'TRBBTC', 'TNTBTC', 'TNBBTC', 'TLMBTC', 'TKOBTC', 'TCTBTC', 'SYSBTC', 'SXPBTC', 'SUNBTC', 'SUBBTC', 'STXBTC', 'STGBTC', 'SSVBTC', 'SRMBTC', 'SOLBTC', 'SNXBTC', 'SNTBTC', 'SNMBTC', 'SKYBTC', 'SKLBTC', 'SFPBTC', 'RVNBTC', 'RSRBTC', 'RPXBTC', 'RLCBTC', 'RIFBTC', 'RGTBTC', 'REQBTC', 'REPBTC', 'RENBTC', 'RDNBTC', 'RCNBTC', 'RADBTC', 'QSPBTC', 'QNTBTC', 'QLCBTC', 'QKCBTC', 'PYRBTC', 'PSGBTC', 'PPTBTC', 'POEBTC', 'POABTC', 'PNTBTC', 'PLABTC', 'PHXBTC', 'PHBBTC', 'PHABTC', 'PAXBTC', 'OXTBTC', 'OSTBTC', 'ORNBTC', 'ONTBTC', 'ONGBTC', 'ONEBTC']\n"
     ]
    }
   ],
   "source": [
    "from binance import Client, ThreadedWebsocketManager, ThreadedDepthCacheManager\n",
    "\n",
    "# change to your api_key , api_secret \n",
    "api_key = ''\n",
    "api_secret = ''\n",
    "\n",
    "client = Client(api_key, api_secret)\n",
    "\n",
    "# get all tickers\n",
    "tickers = client.get_orderbook_tickers()\n",
    "\n",
    "# all tickers wiil be in this list\n",
    "products = []\n",
    "\n",
    "for each in range(len(tickers)):\n",
    "    products.append(tickers[each]['symbol'])\n",
    "\n",
    "\n",
    "# 模糊搜尋應用\n",
    "import difflib\n",
    "# find related to BTC tickers ( for 100 data points )\n",
    "res = difflib.get_close_matches('BTC',products,100,cutoff=0.6)\n",
    "print(res)\n"
   ]
  },
  {
   "cell_type": "markdown",
   "metadata": {},
   "source": [
    "## Clean data and transfer to Pandas.dataframe foramt "
   ]
  },
  {
   "cell_type": "code",
   "execution_count": 3,
   "metadata": {},
   "outputs": [
    {
     "data": {
      "text/plain": [
       "'\\nklines =>\\n[\\n  [\\n    1499040000000,      // Open time\\n    \"0.01634790\",       // Open\\n    \"0.80000000\",       // High\\n    \"0.01575800\",       // Low\\n    \"0.01577100\",       // Close\\n    \"148976.11427815\",  // Volume\\n    1499644799999,      // Close time\\n    \"2434.19055334\",    // Quote asset volume\\n    308,                // Number of trades\\n    \"1756.87402397\",    // Taker buy base asset volume\\n    \"28.46694368\",      // Taker buy quote asset volume\\n    \"17928899.62484339\" // Ignore\\n  ]\\n]\\n'"
      ]
     },
     "execution_count": 3,
     "metadata": {},
     "output_type": "execute_result"
    }
   ],
   "source": [
    "'''\n",
    "klines =>\n",
    "[\n",
    "  [\n",
    "    1499040000000,      // Open time\n",
    "    \"0.01634790\",       // Open\n",
    "    \"0.80000000\",       // High\n",
    "    \"0.01575800\",       // Low\n",
    "    \"0.01577100\",       // Close\n",
    "    \"148976.11427815\",  // Volume\n",
    "    1499644799999,      // Close time\n",
    "    \"2434.19055334\",    // Quote asset volume\n",
    "    308,                // Number of trades\n",
    "    \"1756.87402397\",    // Taker buy base asset volume\n",
    "    \"28.46694368\",      // Taker buy quote asset volume\n",
    "    \"17928899.62484339\" // Ignore\n",
    "  ]\n",
    "]\n",
    "'''"
   ]
  },
  {
   "cell_type": "markdown",
   "metadata": {},
   "source": [
    "### Preprocessing data "
   ]
  },
  {
   "cell_type": "code",
   "execution_count": 10,
   "metadata": {},
   "outputs": [
    {
     "data": {
      "text/plain": [
       "Open time                       datetime64[ns]\n",
       "Open                                   float64\n",
       "High                                   float64\n",
       "Low                                    float64\n",
       "Close                                  float64\n",
       "Volume                                 float64\n",
       "Close time                      datetime64[ns]\n",
       "Quote asset volume                     float64\n",
       "Number of trades                         int64\n",
       "Taker buy base asset volume            float64\n",
       "Taker buy quote asset volume           float64\n",
       "Ignore                                  object\n",
       "dtype: object"
      ]
     },
     "execution_count": 10,
     "metadata": {},
     "output_type": "execute_result"
    }
   ],
   "source": [
    "from datetime import datetime\n",
    "from unicodedata import numeric\n",
    "import pandas as pd\n",
    "# fetch data from api give specific time frame and start_time , end_time (optional), symbol \n",
    "klines = client.get_historical_klines(\"ETHBTC\", Client.KLINE_INTERVAL_4HOUR, \"1 Dec, 2021\")\n",
    "\n",
    "# put klines(two-dimensional array) to dataframe and give dataframe columns \n",
    "df = pd.DataFrame(klines, columns=['Open time', 'Open','High','Low','Close','Volume','Close time','Quote asset volume','Number of trades','Taker buy base asset volume','Taker buy quote asset volume','Ignore'])\n",
    "\n",
    "\n",
    "# processing data to datetime object\n",
    "df['Open time'] = pd.to_datetime(df['Open time']/1000, unit='s')\n",
    "df['Close time'] = pd.to_datetime(df['Close time']/1000 , unit='s')\n",
    "\n",
    "# processing data to numeric type\n",
    "numeric_col = ['Open','High','Low','Close','Volume','Quote asset volume','Taker buy base asset volume','Taker buy quote asset volume']\n",
    "\n",
    "df[numeric_col] = df[numeric_col].apply(pd.to_numeric)\n",
    "\n",
    "df.dtypes"
   ]
  },
  {
   "cell_type": "code",
   "execution_count": 11,
   "metadata": {},
   "outputs": [
    {
     "data": {
      "text/html": [
       "<div>\n",
       "<style scoped>\n",
       "    .dataframe tbody tr th:only-of-type {\n",
       "        vertical-align: middle;\n",
       "    }\n",
       "\n",
       "    .dataframe tbody tr th {\n",
       "        vertical-align: top;\n",
       "    }\n",
       "\n",
       "    .dataframe thead th {\n",
       "        text-align: right;\n",
       "    }\n",
       "</style>\n",
       "<table border=\"1\" class=\"dataframe\">\n",
       "  <thead>\n",
       "    <tr style=\"text-align: right;\">\n",
       "      <th></th>\n",
       "      <th>Ignore</th>\n",
       "    </tr>\n",
       "  </thead>\n",
       "  <tbody>\n",
       "    <tr>\n",
       "      <th>count</th>\n",
       "      <td>1791</td>\n",
       "    </tr>\n",
       "    <tr>\n",
       "      <th>unique</th>\n",
       "      <td>1</td>\n",
       "    </tr>\n",
       "    <tr>\n",
       "      <th>top</th>\n",
       "      <td>0</td>\n",
       "    </tr>\n",
       "    <tr>\n",
       "      <th>freq</th>\n",
       "      <td>1791</td>\n",
       "    </tr>\n",
       "  </tbody>\n",
       "</table>\n",
       "</div>"
      ],
      "text/plain": [
       "       Ignore\n",
       "count    1791\n",
       "unique      1\n",
       "top         0\n",
       "freq     1791"
      ]
     },
     "execution_count": 11,
     "metadata": {},
     "output_type": "execute_result"
    }
   ],
   "source": [
    "df.describe(include=object)"
   ]
  },
  {
   "cell_type": "code",
   "execution_count": 12,
   "metadata": {},
   "outputs": [
    {
     "data": {
      "text/html": [
       "<div>\n",
       "<style scoped>\n",
       "    .dataframe tbody tr th:only-of-type {\n",
       "        vertical-align: middle;\n",
       "    }\n",
       "\n",
       "    .dataframe tbody tr th {\n",
       "        vertical-align: top;\n",
       "    }\n",
       "\n",
       "    .dataframe thead th {\n",
       "        text-align: right;\n",
       "    }\n",
       "</style>\n",
       "<table border=\"1\" class=\"dataframe\">\n",
       "  <thead>\n",
       "    <tr style=\"text-align: right;\">\n",
       "      <th></th>\n",
       "      <th>Open</th>\n",
       "      <th>High</th>\n",
       "      <th>Low</th>\n",
       "      <th>Close</th>\n",
       "      <th>Volume</th>\n",
       "      <th>Quote asset volume</th>\n",
       "      <th>Taker buy base asset volume</th>\n",
       "      <th>Taker buy quote asset volume</th>\n",
       "    </tr>\n",
       "  </thead>\n",
       "  <tbody>\n",
       "    <tr>\n",
       "      <th>count</th>\n",
       "      <td>1791.000000</td>\n",
       "      <td>1791.000000</td>\n",
       "      <td>1791.000000</td>\n",
       "      <td>1791.000000</td>\n",
       "      <td>1791.000000</td>\n",
       "      <td>1791.000000</td>\n",
       "      <td>1791.000000</td>\n",
       "      <td>1791.000000</td>\n",
       "    </tr>\n",
       "    <tr>\n",
       "      <th>mean</th>\n",
       "      <td>0.070860</td>\n",
       "      <td>0.071311</td>\n",
       "      <td>0.070388</td>\n",
       "      <td>0.070853</td>\n",
       "      <td>19253.177108</td>\n",
       "      <td>1291.817340</td>\n",
       "      <td>9535.912990</td>\n",
       "      <td>640.497989</td>\n",
       "    </tr>\n",
       "    <tr>\n",
       "      <th>std</th>\n",
       "      <td>0.008071</td>\n",
       "      <td>0.008064</td>\n",
       "      <td>0.008070</td>\n",
       "      <td>0.008067</td>\n",
       "      <td>17804.844596</td>\n",
       "      <td>1006.297201</td>\n",
       "      <td>8749.464658</td>\n",
       "      <td>495.988660</td>\n",
       "    </tr>\n",
       "    <tr>\n",
       "      <th>min</th>\n",
       "      <td>0.050656</td>\n",
       "      <td>0.051964</td>\n",
       "      <td>0.049081</td>\n",
       "      <td>0.050647</td>\n",
       "      <td>2763.951100</td>\n",
       "      <td>182.634957</td>\n",
       "      <td>1348.862900</td>\n",
       "      <td>89.128357</td>\n",
       "    </tr>\n",
       "    <tr>\n",
       "      <th>25%</th>\n",
       "      <td>0.066962</td>\n",
       "      <td>0.067377</td>\n",
       "      <td>0.066492</td>\n",
       "      <td>0.066952</td>\n",
       "      <td>9420.041050</td>\n",
       "      <td>689.326238</td>\n",
       "      <td>4668.408500</td>\n",
       "      <td>338.886518</td>\n",
       "    </tr>\n",
       "    <tr>\n",
       "      <th>50%</th>\n",
       "      <td>0.071673</td>\n",
       "      <td>0.072104</td>\n",
       "      <td>0.071201</td>\n",
       "      <td>0.071668</td>\n",
       "      <td>14037.033500</td>\n",
       "      <td>1015.885383</td>\n",
       "      <td>6964.537900</td>\n",
       "      <td>496.214787</td>\n",
       "    </tr>\n",
       "    <tr>\n",
       "      <th>75%</th>\n",
       "      <td>0.076134</td>\n",
       "      <td>0.076573</td>\n",
       "      <td>0.075694</td>\n",
       "      <td>0.076110</td>\n",
       "      <td>22417.313250</td>\n",
       "      <td>1546.592640</td>\n",
       "      <td>11050.789400</td>\n",
       "      <td>768.455278</td>\n",
       "    </tr>\n",
       "    <tr>\n",
       "      <th>max</th>\n",
       "      <td>0.088027</td>\n",
       "      <td>0.088366</td>\n",
       "      <td>0.087669</td>\n",
       "      <td>0.088034</td>\n",
       "      <td>210473.579900</td>\n",
       "      <td>11133.265616</td>\n",
       "      <td>105095.446800</td>\n",
       "      <td>5558.936130</td>\n",
       "    </tr>\n",
       "  </tbody>\n",
       "</table>\n",
       "</div>"
      ],
      "text/plain": [
       "              Open         High          Low        Close         Volume  \\\n",
       "count  1791.000000  1791.000000  1791.000000  1791.000000    1791.000000   \n",
       "mean      0.070860     0.071311     0.070388     0.070853   19253.177108   \n",
       "std       0.008071     0.008064     0.008070     0.008067   17804.844596   \n",
       "min       0.050656     0.051964     0.049081     0.050647    2763.951100   \n",
       "25%       0.066962     0.067377     0.066492     0.066952    9420.041050   \n",
       "50%       0.071673     0.072104     0.071201     0.071668   14037.033500   \n",
       "75%       0.076134     0.076573     0.075694     0.076110   22417.313250   \n",
       "max       0.088027     0.088366     0.087669     0.088034  210473.579900   \n",
       "\n",
       "       Quote asset volume  Taker buy base asset volume  \\\n",
       "count         1791.000000                  1791.000000   \n",
       "mean          1291.817340                  9535.912990   \n",
       "std           1006.297201                  8749.464658   \n",
       "min            182.634957                  1348.862900   \n",
       "25%            689.326238                  4668.408500   \n",
       "50%           1015.885383                  6964.537900   \n",
       "75%           1546.592640                 11050.789400   \n",
       "max          11133.265616                105095.446800   \n",
       "\n",
       "       Taker buy quote asset volume  \n",
       "count                   1791.000000  \n",
       "mean                     640.497989  \n",
       "std                      495.988660  \n",
       "min                       89.128357  \n",
       "25%                      338.886518  \n",
       "50%                      496.214787  \n",
       "75%                      768.455278  \n",
       "max                     5558.936130  "
      ]
     },
     "execution_count": 12,
     "metadata": {},
     "output_type": "execute_result"
    }
   ],
   "source": [
    "df.describe(include=float)"
   ]
  },
  {
   "cell_type": "markdown",
   "metadata": {},
   "source": [
    "## Visualize"
   ]
  },
  {
   "cell_type": "code",
   "execution_count": 37,
   "metadata": {},
   "outputs": [],
   "source": [
    "import mplfinance as mpf\n",
    "# set index to Close time\n",
    "df.set_index(['Close time'] , inplace=True)"
   ]
  },
  {
   "cell_type": "code",
   "execution_count": 44,
   "metadata": {},
   "outputs": [
    {
     "data": {
      "image/png": "[encoded data removed]",
      "text/plain": [
       "<Figure size 800x575 with 2 Axes>"
      ]
     },
     "metadata": {},
     "output_type": "display_data"
    }
   ],
   "source": [
    "mpf.plot(df.tail(100) , type='candle' ,style='charles')"
   ]
  },
  {
   "cell_type": "code",
   "execution_count": null,
   "metadata": {},
   "outputs": [],
   "source": []
  }
 ],
 "metadata": {
  "kernelspec": {
   "display_name": "Python 3.9.13 ('base')",
   "language": "python",
   "name": "python3"
  },
  "language_info": {
   "codemirror_mode": {
    "name": "ipython",
    "version": 3
   },
   "file_extension": ".py",
   "mimetype": "text/x-python",
   "name": "python",
   "nbconvert_exporter": "python",
   "pygments_lexer": "ipython3",
   "version": "3.9.13"
  },
  "orig_nbformat": 4,
  "vscode": {
   "interpreter": {
    "hash": "2f5b0bd473945d368f58024f7dd41ed3c26f99f7e2494302c86e75a37743a102"
   }
  }
 },
 "nbformat": 4,
 "nbformat_minor": 2
}
